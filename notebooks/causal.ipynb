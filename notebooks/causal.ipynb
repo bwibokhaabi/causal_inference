{
 "cells": [
  {
   "cell_type": "code",
   "execution_count": 1,
   "metadata": {},
   "outputs": [],
   "source": [
    "import logging\n",
    "#Logging is a means of tracking events that happen when some software runs\n",
    "# Create and configure logger\n",
    "logging.basicConfig(filename=\"../logs/newfile.log\",\n",
    "                    format='%(asctime)s %(message)s',\n",
    "                    filemode='w')\n",
    " \n",
    "# Creating an object\n",
    "logger = logging.getLogger()\n",
    " \n",
    "# Setting the threshold of logger to DEBUG\n",
    "logger.setLevel(logging.DEBUG)\n",
    " \n",
    "# Test messages\n",
    "logger.debug(\"Harmless debug Message\")\n",
    "logger.info(\"Just an information\")\n",
    "logger.warning(\"Its a Warning\")\n",
    "logger.error(\"Did you try to divide by zero\")\n",
    "logger.critical(\"Internet is down\")"
   ]
  },
  {
   "cell_type": "code",
   "execution_count": 4,
   "metadata": {},
   "outputs": [],
   "source": [
    "import sys\n",
    "sys.path.insert(0,'../scripts/')\n",
    "from data_loader import load_df_from_csv\n",
    "from data_struct import DataInfo\n",
    "from data_cleaner import DataCleaner\n",
    "%matplotlib inline\n"
   ]
  },
  {
   "cell_type": "code",
   "execution_count": 5,
   "metadata": {},
   "outputs": [],
   "source": [
    "missing_values = [\"n/a\", \"na\", \"undefined\",'']\n",
    "df= load_df_from_csv(\"../data/causal_data.csv\",na_values=missing_values)"
   ]
  },
  {
   "cell_type": "code",
   "execution_count": 6,
   "metadata": {},
   "outputs": [],
   "source": [
    "explorer = DataInfo(df)\n",
    "#initialize module to get data overview"
   ]
  },
  {
   "cell_type": "code",
   "execution_count": 7,
   "metadata": {},
   "outputs": [
    {
     "name": "stdout",
     "output_type": "stream",
     "text": [
      "The DataFrame containes 569 rows and 9 columns.\n",
      "Current DataFrame Memory Usage:\n",
      "17767\n",
      "Current DataFrame Memory Usage of columns is :\n",
      "DataFrame Information: \n",
      "<class 'pandas.core.frame.DataFrame'>\n",
      "RangeIndex: 569 entries, 0 to 568\n",
      "Data columns (total 9 columns):\n",
      " #   Column                Non-Null Count  Dtype  \n",
      "---  ------                --------------  -----  \n",
      " 0   Unnamed: 0            569 non-null    uint16 \n",
      " 1   radius_mean           569 non-null    float32\n",
      " 2   area_mean             569 non-null    float32\n",
      " 3   concave points_mean   569 non-null    float32\n",
      " 4   radius_worst          569 non-null    float32\n",
      " 5   perimeter_worst       569 non-null    float32\n",
      " 6   area_worst            569 non-null    float32\n",
      " 7   concave points_worst  569 non-null    float32\n",
      " 8   diagnosis_Cat         569 non-null    uint8  \n",
      "dtypes: float32(7), uint16(1), uint8(1)\n",
      "memory usage: 17.4 KB\n"
     ]
    }
   ],
   "source": [
    "explorer.get_basic_description()"
   ]
  },
  {
   "cell_type": "code",
   "execution_count": 8,
   "metadata": {},
   "outputs": [],
   "source": [
    "cleaner = DataCleaner(df)"
   ]
  },
  {
   "cell_type": "code",
   "execution_count": 9,
   "metadata": {},
   "outputs": [
    {
     "data": {
      "text/html": [
       "<div>\n",
       "<style scoped>\n",
       "    .dataframe tbody tr th:only-of-type {\n",
       "        vertical-align: middle;\n",
       "    }\n",
       "\n",
       "    .dataframe tbody tr th {\n",
       "        vertical-align: top;\n",
       "    }\n",
       "\n",
       "    .dataframe thead th {\n",
       "        text-align: right;\n",
       "    }\n",
       "</style>\n",
       "<table border=\"1\" class=\"dataframe\">\n",
       "  <thead>\n",
       "    <tr style=\"text-align: right;\">\n",
       "      <th></th>\n",
       "      <th>radius_mean</th>\n",
       "      <th>area_mean</th>\n",
       "      <th>concave points_mean</th>\n",
       "      <th>radius_worst</th>\n",
       "      <th>perimeter_worst</th>\n",
       "      <th>area_worst</th>\n",
       "      <th>concave points_worst</th>\n",
       "      <th>diagnosis_Cat</th>\n",
       "    </tr>\n",
       "  </thead>\n",
       "  <tbody>\n",
       "    <tr>\n",
       "      <th>0</th>\n",
       "      <td>17.990000</td>\n",
       "      <td>1001.000000</td>\n",
       "      <td>0.14710</td>\n",
       "      <td>25.379999</td>\n",
       "      <td>184.600006</td>\n",
       "      <td>2019.000000</td>\n",
       "      <td>0.2654</td>\n",
       "      <td>1</td>\n",
       "    </tr>\n",
       "    <tr>\n",
       "      <th>1</th>\n",
       "      <td>20.570000</td>\n",
       "      <td>1326.000000</td>\n",
       "      <td>0.07017</td>\n",
       "      <td>24.990000</td>\n",
       "      <td>158.800003</td>\n",
       "      <td>1956.000000</td>\n",
       "      <td>0.1860</td>\n",
       "      <td>1</td>\n",
       "    </tr>\n",
       "    <tr>\n",
       "      <th>2</th>\n",
       "      <td>19.690001</td>\n",
       "      <td>1203.000000</td>\n",
       "      <td>0.12790</td>\n",
       "      <td>23.570000</td>\n",
       "      <td>152.500000</td>\n",
       "      <td>1709.000000</td>\n",
       "      <td>0.2430</td>\n",
       "      <td>1</td>\n",
       "    </tr>\n",
       "    <tr>\n",
       "      <th>3</th>\n",
       "      <td>11.420000</td>\n",
       "      <td>386.100006</td>\n",
       "      <td>0.10520</td>\n",
       "      <td>14.910000</td>\n",
       "      <td>98.870003</td>\n",
       "      <td>567.700012</td>\n",
       "      <td>0.2575</td>\n",
       "      <td>1</td>\n",
       "    </tr>\n",
       "    <tr>\n",
       "      <th>4</th>\n",
       "      <td>20.290001</td>\n",
       "      <td>1297.000000</td>\n",
       "      <td>0.10430</td>\n",
       "      <td>22.540001</td>\n",
       "      <td>152.199997</td>\n",
       "      <td>1575.000000</td>\n",
       "      <td>0.1625</td>\n",
       "      <td>1</td>\n",
       "    </tr>\n",
       "    <tr>\n",
       "      <th>...</th>\n",
       "      <td>...</td>\n",
       "      <td>...</td>\n",
       "      <td>...</td>\n",
       "      <td>...</td>\n",
       "      <td>...</td>\n",
       "      <td>...</td>\n",
       "      <td>...</td>\n",
       "      <td>...</td>\n",
       "    </tr>\n",
       "    <tr>\n",
       "      <th>564</th>\n",
       "      <td>21.559999</td>\n",
       "      <td>1479.000000</td>\n",
       "      <td>0.13890</td>\n",
       "      <td>25.450001</td>\n",
       "      <td>166.100006</td>\n",
       "      <td>2027.000000</td>\n",
       "      <td>0.2216</td>\n",
       "      <td>1</td>\n",
       "    </tr>\n",
       "    <tr>\n",
       "      <th>565</th>\n",
       "      <td>20.129999</td>\n",
       "      <td>1261.000000</td>\n",
       "      <td>0.09791</td>\n",
       "      <td>23.690001</td>\n",
       "      <td>155.000000</td>\n",
       "      <td>1731.000000</td>\n",
       "      <td>0.1628</td>\n",
       "      <td>1</td>\n",
       "    </tr>\n",
       "    <tr>\n",
       "      <th>566</th>\n",
       "      <td>16.600000</td>\n",
       "      <td>858.099976</td>\n",
       "      <td>0.05302</td>\n",
       "      <td>18.980000</td>\n",
       "      <td>126.699997</td>\n",
       "      <td>1124.000000</td>\n",
       "      <td>0.1418</td>\n",
       "      <td>1</td>\n",
       "    </tr>\n",
       "    <tr>\n",
       "      <th>567</th>\n",
       "      <td>20.600000</td>\n",
       "      <td>1265.000000</td>\n",
       "      <td>0.15200</td>\n",
       "      <td>25.740000</td>\n",
       "      <td>184.600006</td>\n",
       "      <td>1821.000000</td>\n",
       "      <td>0.2650</td>\n",
       "      <td>1</td>\n",
       "    </tr>\n",
       "    <tr>\n",
       "      <th>568</th>\n",
       "      <td>7.760000</td>\n",
       "      <td>181.000000</td>\n",
       "      <td>0.00000</td>\n",
       "      <td>9.456000</td>\n",
       "      <td>59.160000</td>\n",
       "      <td>268.600006</td>\n",
       "      <td>0.0000</td>\n",
       "      <td>0</td>\n",
       "    </tr>\n",
       "  </tbody>\n",
       "</table>\n",
       "<p>569 rows × 8 columns</p>\n",
       "</div>"
      ],
      "text/plain": [
       "     radius_mean    area_mean  concave points_mean  radius_worst  \\\n",
       "0      17.990000  1001.000000              0.14710     25.379999   \n",
       "1      20.570000  1326.000000              0.07017     24.990000   \n",
       "2      19.690001  1203.000000              0.12790     23.570000   \n",
       "3      11.420000   386.100006              0.10520     14.910000   \n",
       "4      20.290001  1297.000000              0.10430     22.540001   \n",
       "..           ...          ...                  ...           ...   \n",
       "564    21.559999  1479.000000              0.13890     25.450001   \n",
       "565    20.129999  1261.000000              0.09791     23.690001   \n",
       "566    16.600000   858.099976              0.05302     18.980000   \n",
       "567    20.600000  1265.000000              0.15200     25.740000   \n",
       "568     7.760000   181.000000              0.00000      9.456000   \n",
       "\n",
       "     perimeter_worst   area_worst  concave points_worst  diagnosis_Cat  \n",
       "0         184.600006  2019.000000                0.2654              1  \n",
       "1         158.800003  1956.000000                0.1860              1  \n",
       "2         152.500000  1709.000000                0.2430              1  \n",
       "3          98.870003   567.700012                0.2575              1  \n",
       "4         152.199997  1575.000000                0.1625              1  \n",
       "..               ...          ...                   ...            ...  \n",
       "564       166.100006  2027.000000                0.2216              1  \n",
       "565       155.000000  1731.000000                0.1628              1  \n",
       "566       126.699997  1124.000000                0.1418              1  \n",
       "567       184.600006  1821.000000                0.2650              1  \n",
       "568        59.160000   268.600006                0.0000              0  \n",
       "\n",
       "[569 rows x 8 columns]"
      ]
     },
     "execution_count": 9,
     "metadata": {},
     "output_type": "execute_result"
    }
   ],
   "source": [
    "cleaner.remove_unwanted_columns(\"Unnamed: 0\")"
   ]
  },
  {
   "cell_type": "code",
   "execution_count": 10,
   "metadata": {},
   "outputs": [
    {
     "name": "stdout",
     "output_type": "stream",
     "text": [
      "The DataFrame containes 569 rows and 8 columns.\n",
      "Current DataFrame Memory Usage:\n",
      "16629\n",
      "Current DataFrame Memory Usage of columns is :\n",
      "DataFrame Information: \n",
      "<class 'pandas.core.frame.DataFrame'>\n",
      "RangeIndex: 569 entries, 0 to 568\n",
      "Data columns (total 8 columns):\n",
      " #   Column                Non-Null Count  Dtype  \n",
      "---  ------                --------------  -----  \n",
      " 0   radius_mean           569 non-null    float32\n",
      " 1   area_mean             569 non-null    float32\n",
      " 2   concave points_mean   569 non-null    float32\n",
      " 3   radius_worst          569 non-null    float32\n",
      " 4   perimeter_worst       569 non-null    float32\n",
      " 5   area_worst            569 non-null    float32\n",
      " 6   concave points_worst  569 non-null    float32\n",
      " 7   diagnosis_Cat         569 non-null    uint8  \n",
      "dtypes: float32(7), uint8(1)\n",
      "memory usage: 16.2 KB\n"
     ]
    }
   ],
   "source": [
    "explorer.get_basic_description()"
   ]
  },
  {
   "cell_type": "code",
   "execution_count": 12,
   "metadata": {},
   "outputs": [
    {
     "name": "stdout",
     "output_type": "stream",
     "text": [
      "The DataFrame containes 569 rows and 8 columns.\n",
      "Current DataFrame Memory Usage:\n",
      "16629\n",
      "Current DataFrame Memory Usage of columns is :\n",
      "DataFrame Information: \n",
      "<class 'pandas.core.frame.DataFrame'>\n",
      "RangeIndex: 569 entries, 0 to 568\n",
      "Data columns (total 8 columns):\n",
      " #   Column                Non-Null Count  Dtype  \n",
      "---  ------                --------------  -----  \n",
      " 0   radius_mean           569 non-null    float32\n",
      " 1   area_mean             569 non-null    float32\n",
      " 2   concave points_mean   569 non-null    float32\n",
      " 3   radius_worst          569 non-null    float32\n",
      " 4   perimeter_worst       569 non-null    float32\n",
      " 5   area_worst            569 non-null    float32\n",
      " 6   concave points_worst  569 non-null    float32\n",
      " 7   diagnosis_Cat         569 non-null    uint8  \n",
      "dtypes: float32(7), uint8(1)\n",
      "memory usage: 16.2 KB\n"
     ]
    }
   ],
   "source": [
    "explorer.get_basic_description()"
   ]
  },
  {
   "cell_type": "code",
   "execution_count": null,
   "metadata": {},
   "outputs": [],
   "source": []
  },
  {
   "cell_type": "code",
   "execution_count": null,
   "metadata": {},
   "outputs": [],
   "source": []
  }
 ],
 "metadata": {
  "kernelspec": {
   "display_name": "Python 3.8.13 ('causality')",
   "language": "python",
   "name": "python3"
  },
  "language_info": {
   "codemirror_mode": {
    "name": "ipython",
    "version": 3
   },
   "file_extension": ".py",
   "mimetype": "text/x-python",
   "name": "python",
   "nbconvert_exporter": "python",
   "pygments_lexer": "ipython3",
   "version": "3.8.13"
  },
  "orig_nbformat": 4,
  "vscode": {
   "interpreter": {
    "hash": "e9664d2a751eb440015735859f2fab16606d3c0fbf886f8177329f417e99c1b8"
   }
  }
 },
 "nbformat": 4,
 "nbformat_minor": 2
}
